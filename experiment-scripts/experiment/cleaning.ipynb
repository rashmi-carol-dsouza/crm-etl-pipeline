{
 "cells": [
  {
   "cell_type": "code",
   "execution_count": 131,
   "metadata": {},
   "outputs": [],
   "source": [
    "import os\n",
    "import json\n",
    "import pandas as pd\n",
    "from dotenv import load_dotenv\n",
    "import requests"
   ]
  },
  {
   "cell_type": "code",
   "execution_count": 132,
   "metadata": {},
   "outputs": [],
   "source": [
    "load_dotenv()\n",
    "ALL_CONTACTS_VIEW_ID = os.getenv('ALL_CONTACTS_VIEW_ID')\n",
    "ALL_ACCOUNTS_VIEW_ID = os.getenv('ALL_ACCOUNTS_VIEW_ID')\n",
    "ALL_DEALS_VIEW_ID = os.getenv('ALL_DEALS_VIEW_ID')\n",
    "OUTPUT_DIR = os.getenv('OUTPUT_DIR')"
   ]
  },
  {
   "cell_type": "code",
   "execution_count": 133,
   "metadata": {},
   "outputs": [],
   "source": [
    "if not os.path.exists(OUTPUT_DIR):\n",
    "    os.makedirs(OUTPUT_DIR)"
   ]
  },
  {
   "cell_type": "code",
   "execution_count": 134,
   "metadata": {},
   "outputs": [
    {
     "name": "stdout",
     "output_type": "stream",
     "text": [
      "Successfully extracted data for contacts to ./data/contacts.json\n",
      "Successfully extracted data for sales_accounts to ./data/sales_accounts.json\n",
      "Successfully extracted data for deals to ./data/deals.json\n"
     ]
    }
   ],
   "source": [
    "def extract_data(entity, view_id, output_dir):\n",
    "    FRESHSALES_API_KEY = os.getenv('FRESHSALES_API_KEY')\n",
    "    SALES_BUNDLE_ALIAS = os.getenv('SALES_BUNDLE_ALIAS')\n",
    "\n",
    "    if not FRESHSALES_API_KEY or not SALES_BUNDLE_ALIAS:\n",
    "        raise ValueError(\"FRESHSALES_API_KEY or SALES_BUNDLE_ALIAS environment variable is missing.\")\n",
    "\n",
    "    page = 1\n",
    "    all_data = []\n",
    "    while True:\n",
    "        url = f\"https://{SALES_BUNDLE_ALIAS}/api/{entity}/view/{view_id}?page={page}\"\n",
    "        headers = {\n",
    "            \"Authorization\": f\"Token token={FRESHSALES_API_KEY}\",\n",
    "            \"Content-Type\": \"application/json\"\n",
    "        }\n",
    "\n",
    "        response = requests.get(url, headers=headers)\n",
    "\n",
    "        if response.status_code == 200:\n",
    "            data = response.json()\n",
    "            all_data.extend(data[entity])\n",
    "\n",
    "            # Check if there are more pages\n",
    "            if page >= data['meta']['total_pages']:\n",
    "                break\n",
    "            page += 1\n",
    "        else:\n",
    "            print(f\"Failed to extract data for {entity}. Status Code: {response.status_code}\")\n",
    "            break\n",
    "\n",
    "    output_file = f\"{output_dir}/{entity}.json\"\n",
    "    with open(output_file, \"w\") as file:\n",
    "        json.dump(all_data, file)\n",
    "    print(f\"Successfully extracted data for {entity} to {output_file}\")\n",
    "\n",
    "extract_data(\"contacts\", ALL_CONTACTS_VIEW_ID, OUTPUT_DIR)\n",
    "extract_data(\"sales_accounts\", ALL_ACCOUNTS_VIEW_ID, OUTPUT_DIR)\n",
    "extract_data(\"deals\", ALL_DEALS_VIEW_ID, OUTPUT_DIR)"
   ]
  },
  {
   "cell_type": "code",
   "execution_count": 147,
   "metadata": {},
   "outputs": [],
   "source": [
    "def load_data(data_folder):\n",
    "    contacts_data_path = os.path.join(data_folder, 'contacts.json')\n",
    "    deals_data_path = os.path.join(data_folder, 'deals.json')\n",
    "    accounts_data_path = os.path.join(data_folder, 'sales_accounts.json')\n",
    "\n",
    "    with open(contacts_data_path) as contacts_file:\n",
    "        contacts_data = json.load(contacts_file)\n",
    "    with open(deals_data_path) as deals_file:\n",
    "        deals_data = json.load(deals_file)\n",
    "    with open(accounts_data_path) as accounts_file:\n",
    "        accounts_data = json.load(accounts_file)\n",
    "\n",
    "    return contacts_data, deals_data, accounts_data"
   ]
  },
  {
   "cell_type": "code",
   "execution_count": 148,
   "metadata": {},
   "outputs": [],
   "source": [
    "def transform_data(contacts_data, deals_data, accounts_data):\n",
    "    # Convert each JSON list to a DataFrame\n",
    "    contacts_df = pd.DataFrame(contacts_data)\n",
    "    deals_df = pd.DataFrame(deals_data)\n",
    "    accounts_df = pd.DataFrame(accounts_data)\n",
    "    return contacts_df, deals_df, accounts_df\n"
   ]
  },
  {
   "cell_type": "code",
   "execution_count": 149,
   "metadata": {},
   "outputs": [],
   "source": [
    "contacts_data, deals_data, accounts_data = load_data(OUTPUT_DIR)\n",
    "contacts_df, deals_df, accounts_df = transform_data(contacts_data, deals_data, accounts_data)"
   ]
  },
  {
   "cell_type": "code",
   "execution_count": 150,
   "metadata": {},
   "outputs": [
    {
     "name": "stdout",
     "output_type": "stream",
     "text": [
      "Total number of columns in contacts_df: 71\n",
      "Number of empty columns in contacts_df: 35\n",
      "Number of non-empty columns in contacts_df: 36\n",
      "List of non-empty columns in contacts_df: ['id', 'first_name', 'last_name', 'display_name', 'avatar', 'job_title', 'city', 'state', 'country', 'email', 'emails', 'time_zone', 'mobile_number', 'lead_score', 'open_deals_amount', 'won_deals_amount', 'links', 'custom_field', 'created_at', 'updated_at', 'won_deals_count', 'open_deals_count', 'last_assigned_at', 'linkedin', 'is_deleted', 'team_user_ids', 'subscription_status', 'subscription_types', 'customer_fit', 'record_type_id', 'whatsapp_subscription_status', 'sms_subscription_status', 'system_tags', 'mcr_id', 'phone_numbers', 'tags']\n"
     ]
    }
   ],
   "source": [
    "# Find empty columns in contacts_df\n",
    "empty_columns_contacts = contacts_df.columns[contacts_df.isna().all()].tolist()\n",
    "non_empty_columns_contacts = contacts_df.columns[~contacts_df.isna().all()].tolist()\n",
    "\n",
    "# Print summary for contacts_df\n",
    "print(\"Total number of columns in contacts_df:\", contacts_df.shape[1])\n",
    "print(\"Number of empty columns in contacts_df:\", len(empty_columns_contacts))\n",
    "print(\"Number of non-empty columns in contacts_df:\", len(non_empty_columns_contacts))\n",
    "print(\"List of non-empty columns in contacts_df:\", non_empty_columns_contacts)"
   ]
  },
  {
   "cell_type": "code",
   "execution_count": 151,
   "metadata": {},
   "outputs": [
    {
     "name": "stdout",
     "output_type": "stream",
     "text": [
      "Total number of columns in accounts_df: 44\n",
      "Number of empty columns in accounts_df: 14\n",
      "Number of non-empty columns in accounts_df: 30\n",
      "List of non-empty columns in accounts_df: ['id', 'name', 'address', 'city', 'state', 'zipcode', 'country', 'number_of_employees', 'annual_revenue', 'website', 'owner_id', 'phone', 'open_deals_amount', 'open_deals_count', 'won_deals_amount', 'won_deals_count', 'facebook', 'twitter', 'linkedin', 'links', 'custom_field', 'created_at', 'updated_at', 'avatar', 'last_assigned_at', 'is_deleted', 'team_user_ids', 'record_type_id', 'domains', 'tags']\n"
     ]
    }
   ],
   "source": [
    "# Find empty columns in accounts_df\n",
    "empty_columns_accounts = accounts_df.columns[accounts_df.isna().all()].tolist()\n",
    "non_empty_columns_accounts = accounts_df.columns[~accounts_df.isna().all()].tolist()\n",
    "\n",
    "# Print summary for accounts_df\n",
    "print(\"Total number of columns in accounts_df:\", accounts_df.shape[1])\n",
    "print(\"Number of empty columns in accounts_df:\", len(empty_columns_accounts))\n",
    "print(\"Number of non-empty columns in accounts_df:\", len(non_empty_columns_accounts))\n",
    "print(\"List of non-empty columns in accounts_df:\", non_empty_columns_accounts)"
   ]
  },
  {
   "cell_type": "code",
   "execution_count": 143,
   "metadata": {},
   "outputs": [
    {
     "name": "stdout",
     "output_type": "stream",
     "text": [
      "Total number of columns in deals_df: 40\n",
      "Number of empty columns in deals_df: 11\n",
      "Number of non-empty columns in deals_df: 29\n",
      "List of non-empty columns in deals_df: ['id', 'name', 'amount', 'base_currency_amount', 'expected_close', 'closed_date', 'stage_updated_time', 'custom_field', 'probability', 'updated_at', 'created_at', 'deal_pipeline_id', 'deal_stage_id', 'age', 'links', 'collaboration', 'last_assigned_at', 'expected_deal_value', 'is_deleted', 'team_user_ids', 'fc_widget_collaboration', 'forecast_category', 'deal_prediction', 'deal_prediction_last_updated_at', 'record_type_id', 'has_products', 'products', 'deal_price_adjustments', 'tags']\n"
     ]
    }
   ],
   "source": [
    "# Find empty columns in deals_df\n",
    "empty_columns_deals = deals_df.columns[deals_df.isna().all()].tolist()\n",
    "non_empty_columns_deals = deals_df.columns[~deals_df.isna().all()].tolist()\n",
    "\n",
    "# Print summary for deals_df\n",
    "print(\"Total number of columns in deals_df:\", deals_df.shape[1])\n",
    "print(\"Number of empty columns in deals_df:\", len(empty_columns_deals))\n",
    "print(\"Number of non-empty columns in deals_df:\", len(non_empty_columns_deals))\n",
    "print(\"List of non-empty columns in deals_df:\", non_empty_columns_deals)"
   ]
  }
 ],
 "metadata": {
  "kernelspec": {
   "display_name": "Python 3",
   "language": "python",
   "name": "python3"
  },
  "language_info": {
   "codemirror_mode": {
    "name": "ipython",
    "version": 3
   },
   "file_extension": ".py",
   "mimetype": "text/x-python",
   "name": "python",
   "nbconvert_exporter": "python",
   "pygments_lexer": "ipython3",
   "version": "3.12.3"
  }
 },
 "nbformat": 4,
 "nbformat_minor": 2
}
