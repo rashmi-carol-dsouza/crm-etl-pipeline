{
 "cells": [
  {
   "cell_type": "code",
   "execution_count": 11,
   "metadata": {},
   "outputs": [],
   "source": [
    "import pandas as pd\n"
   ]
  },
  {
   "cell_type": "code",
   "execution_count": 19,
   "metadata": {},
   "outputs": [],
   "source": [
    "accounts_df = pd.read_csv(\"accounts.csv\")\n",
    "contacts_df = pd.read_csv(\"contacts.csv\")\n",
    "deals_df = pd.read_csv(\"deals.csv\")"
   ]
  },
  {
   "cell_type": "code",
   "execution_count": null,
   "metadata": {},
   "outputs": [],
   "source": []
  },
  {
   "cell_type": "code",
   "execution_count": 26,
   "metadata": {},
   "outputs": [
    {
     "name": "stdout",
     "output_type": "stream",
     "text": [
      "Daily Deals Aggregation:\n",
      "  sales_account_id           created_at_deal  daily_total_amount\n",
      "0     202001624849 2024-11-19 00:00:00+01:00            158999.0\n",
      "1     202001624852 2024-11-19 00:00:00+01:00             41360.0\n",
      "2     202001624853 2024-11-19 00:00:00+01:00             77606.0\n",
      "3     202001624855 2024-11-19 00:00:00+01:00             43615.0\n",
      "4     202001624856 2024-11-19 00:00:00+01:00            292978.0\n",
      "5     202001624857 2024-11-19 00:00:00+01:00             14562.0\n",
      "6     202001624858 2024-11-19 00:00:00+01:00            159442.0\n",
      "\n",
      "Weekly Deals Aggregation:\n",
      "  sales_account_id           created_at_deal  weekly_total_amount\n",
      "0     202001624849 2024-11-24 00:00:00+01:00             158999.0\n",
      "1     202001624852 2024-11-24 00:00:00+01:00              41360.0\n",
      "2     202001624853 2024-11-24 00:00:00+01:00              77606.0\n",
      "3     202001624855 2024-11-24 00:00:00+01:00              43615.0\n",
      "4     202001624856 2024-11-24 00:00:00+01:00             292978.0\n",
      "5     202001624857 2024-11-24 00:00:00+01:00              14562.0\n",
      "6     202001624858 2024-11-24 00:00:00+01:00             159442.0\n",
      "\n",
      "Monthly Deals Aggregation:\n",
      "  sales_account_id           created_at_deal  monthly_total_amount\n",
      "0     202001624849 2024-11-30 00:00:00+01:00              158999.0\n",
      "1     202001624852 2024-11-30 00:00:00+01:00               41360.0\n",
      "2     202001624853 2024-11-30 00:00:00+01:00               77606.0\n",
      "3     202001624855 2024-11-30 00:00:00+01:00               43615.0\n",
      "4     202001624856 2024-11-30 00:00:00+01:00              292978.0\n",
      "5     202001624857 2024-11-30 00:00:00+01:00               14562.0\n",
      "6     202001624858 2024-11-30 00:00:00+01:00              159442.0\n"
     ]
    }
   ],
   "source": [
    "# Convert IDs to appropriate type for merging\n",
    "accounts_df['id'] = accounts_df['id'].astype(str)\n",
    "deals_df['sales_account_id'] = deals_df['sales_account_id'].astype(str)\n",
    "\n",
    "# Merge accounts with deals on sales_account_id\n",
    "merged_deals = pd.merge(deals_df, accounts_df, how='left', left_on='sales_account_id', right_on='id', suffixes=('_deal', '_account'))\n",
    "\n",
    "# Drop NaN sales account ids\n",
    "merged_deals.dropna(subset=['sales_account_id'], inplace=True)\n",
    "\n",
    "# Convert 'created_at' to datetime format for aggregations\n",
    "merged_deals['created_at_deal'] = pd.to_datetime(merged_deals['created_at_deal'])\n",
    "\n",
    "# Compute daily, weekly, and monthly aggregates of deals per account\n",
    "# Group by 'sales_account_id' and created_at period, then sum 'amount'\n",
    "\n",
    "# Daily Aggregates\n",
    "deals_daily_agg = merged_deals.groupby(['sales_account_id', pd.Grouper(key='created_at_deal', freq='D')])['amount'].sum().reset_index()\n",
    "deals_daily_agg.rename(columns={'amount': 'daily_total_amount'}, inplace=True)\n",
    "\n",
    "# Weekly Aggregates\n",
    "deals_weekly_agg = merged_deals.groupby(['sales_account_id', pd.Grouper(key='created_at_deal', freq='W')])['amount'].sum().reset_index()\n",
    "deals_weekly_agg.rename(columns={'amount': 'weekly_total_amount'}, inplace=True)\n",
    "\n",
    "# Monthly Aggregates\n",
    "deals_monthly_agg = merged_deals.groupby(['sales_account_id', pd.Grouper(key='created_at_deal', freq='M')])['amount'].sum().reset_index()\n",
    "deals_monthly_agg.rename(columns={'amount': 'monthly_total_amount'}, inplace=True)\n",
    "\n",
    "# Display results\n",
    "print(\"Daily Deals Aggregation:\")\n",
    "print(deals_daily_agg)\n",
    "\n",
    "print(\"\\nWeekly Deals Aggregation:\")\n",
    "print(deals_weekly_agg)\n",
    "\n",
    "print(\"\\nMonthly Deals Aggregation:\")\n",
    "print(deals_monthly_agg)"
   ]
  },
  {
   "cell_type": "code",
   "execution_count": null,
   "metadata": {},
   "outputs": [],
   "source": []
  }
 ],
 "metadata": {
  "kernelspec": {
   "display_name": "Python 3",
   "language": "python",
   "name": "python3"
  },
  "language_info": {
   "codemirror_mode": {
    "name": "ipython",
    "version": 3
   },
   "file_extension": ".py",
   "mimetype": "text/x-python",
   "name": "python",
   "nbconvert_exporter": "python",
   "pygments_lexer": "ipython3",
   "version": "3.12.3"
  }
 },
 "nbformat": 4,
 "nbformat_minor": 2
}
